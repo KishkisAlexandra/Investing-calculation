{
 "cells":[
  {
   "cell_type":"markdown",
   "source":[
    "# Sheet"
   ],
   "attachments":{},
   "metadata":{
    "datalore":{
     "node_id":"Sheet",
     "type":"MD",
     "hide_input_from_viewers":false,
     "hide_output_from_viewers":false,
     "sheet_delimiter":true
    }
   }
  },
  {
   "cell_type":"code",
   "source":[
    "pip install ipywidgets"
   ],
   "execution_count":3,
   "outputs":[
    {
     "name":"stdout",
     "text":[
      "Requirement already satisfied: ipywidgets in \/opt\/python\/envs\/default_3_11\/lib\/python3.11\/site-packages (7.8.5)\r\n",
      "Requirement already satisfied: comm>=0.1.3 in \/opt\/python\/envs\/default_3_11\/lib\/python3.11\/site-packages (from ipywidgets) (0.2.2)\r\n",
      "Requirement already satisfied: ipython-genutils~=0.2.0 in \/opt\/python\/envs\/default_3_11\/lib\/python3.11\/site-packages (from ipywidgets) (0.2.0)\r\n",
      "Requirement already satisfied: traitlets>=4.3.1 in \/opt\/python\/envs\/default_3_11\/lib\/python3.11\/site-packages (from ipywidgets) (5.14.3)\r\n",
      "Requirement already satisfied: widgetsnbextension~=3.6.10 in \/opt\/python\/envs\/default_3_11\/lib\/python3.11\/site-packages (from ipywidgets) (3.6.10)\r\n",
      "Requirement already satisfied: ipython>=4.0.0 in \/opt\/python\/envs\/default_3_11\/lib\/python3.11\/site-packages (from ipywidgets) (9.0.2)\r\n",
      "Requirement already satisfied: jupyterlab-widgets<3,>=1.0.0 in \/opt\/python\/envs\/default_3_11\/lib\/python3.11\/site-packages (from ipywidgets) (1.1.11)\r\n",
      "Requirement already satisfied: decorator in \/opt\/python\/envs\/default_3_11\/lib\/python3.11\/site-packages (from ipython>=4.0.0->ipywidgets) (5.2.1)\r\n",
      "Requirement already satisfied: ipython-pygments-lexers in \/opt\/python\/envs\/default_3_11\/lib\/python3.11\/site-packages (from ipython>=4.0.0->ipywidgets) (1.1.1)\r\n",
      "Requirement already satisfied: jedi>=0.16 in \/opt\/python\/envs\/default_3_11\/lib\/python3.11\/site-packages (from ipython>=4.0.0->ipywidgets) (0.19.2)\r\n",
      "Requirement already satisfied: matplotlib-inline in \/opt\/python\/envs\/default_3_11\/lib\/python3.11\/site-packages (from ipython>=4.0.0->ipywidgets) (0.1.7)\r\n",
      "Requirement already satisfied: pexpect>4.3 in \/opt\/python\/envs\/default_3_11\/lib\/python3.11\/site-packages (from ipython>=4.0.0->ipywidgets) (4.9.0)\r\n",
      "Requirement already satisfied: prompt_toolkit<3.1.0,>=3.0.41 in \/opt\/python\/envs\/default_3_11\/lib\/python3.11\/site-packages (from ipython>=4.0.0->ipywidgets) (3.0.51)\r\n",
      "Requirement already satisfied: pygments>=2.4.0 in \/opt\/python\/envs\/default_3_11\/lib\/python3.11\/site-packages (from ipython>=4.0.0->ipywidgets) (2.19.1)\r\n",
      "Requirement already satisfied: stack_data in \/opt\/python\/envs\/default_3_11\/lib\/python3.11\/site-packages (from ipython>=4.0.0->ipywidgets) (0.6.3)\r\n",
      "Requirement already satisfied: typing_extensions>=4.6 in \/opt\/python\/envs\/default_3_11\/lib\/python3.11\/site-packages (from ipython>=4.0.0->ipywidgets) (4.13.2)\r\n",
      "Requirement already satisfied: notebook>=4.4.1 in \/opt\/python\/envs\/default_3_11\/lib\/python3.11\/site-packages (from widgetsnbextension~=3.6.10->ipywidgets) (6.5.7)\r\n",
      "Requirement already satisfied: parso<0.9.0,>=0.8.4 in \/opt\/python\/envs\/default_3_11\/lib\/python3.11\/site-packages (from jedi>=0.16->ipython>=4.0.0->ipywidgets) (0.8.4)\r\n",
      "Requirement already satisfied: jinja2 in \/opt\/python\/envs\/default_3_11\/lib\/python3.11\/site-packages (from notebook>=4.4.1->widgetsnbextension~=3.6.10->ipywidgets) (3.1.6)\r\n",
      "Requirement already satisfied: tornado>=6.1 in \/opt\/python\/envs\/default_3_11\/lib\/python3.11\/site-packages (from notebook>=4.4.1->widgetsnbextension~=3.6.10->ipywidgets) (6.4.2)\r\n",
      "Requirement already satisfied: pyzmq>=17 in \/opt\/python\/envs\/default_3_11\/lib\/python3.11\/site-packages (from notebook>=4.4.1->widgetsnbextension~=3.6.10->ipywidgets) (26.4.0)\r\n",
      "Requirement already satisfied: argon2-cffi in \/opt\/python\/envs\/default_3_11\/lib\/python3.11\/site-packages (from notebook>=4.4.1->widgetsnbextension~=3.6.10->ipywidgets) (23.1.0)\r\n",
      "Requirement already satisfied: jupyter-core>=4.6.1 in \/opt\/python\/envs\/default_3_11\/lib\/python3.11\/site-packages (from notebook>=4.4.1->widgetsnbextension~=3.6.10->ipywidgets) (5.7.2)\r\n",
      "Requirement already satisfied: jupyter-client<8,>=5.3.4 in \/opt\/python\/envs\/default_3_11\/lib\/python3.11\/site-packages (from notebook>=4.4.1->widgetsnbextension~=3.6.10->ipywidgets) (6.1.12)\r\n",
      "Requirement already satisfied: nbformat in \/opt\/python\/envs\/default_3_11\/lib\/python3.11\/site-packages (from notebook>=4.4.1->widgetsnbextension~=3.6.10->ipywidgets) (5.10.4)\r\n",
      "Requirement already satisfied: nbconvert>=5 in \/opt\/python\/envs\/default_3_11\/lib\/python3.11\/site-packages (from notebook>=4.4.1->widgetsnbextension~=3.6.10->ipywidgets) (7.16.6)\r\n",
      "Requirement already satisfied: nest-asyncio>=1.5 in \/opt\/python\/envs\/default_3_11\/lib\/python3.11\/site-packages (from notebook>=4.4.1->widgetsnbextension~=3.6.10->ipywidgets) (1.6.0)\r\n",
      "Requirement already satisfied: ipykernel in \/opt\/python\/envs\/default_3_11\/lib\/python3.11\/site-packages (from notebook>=4.4.1->widgetsnbextension~=3.6.10->ipywidgets) (6.29.5)\r\n",
      "Requirement already satisfied: Send2Trash>=1.8.0 in \/opt\/python\/envs\/default_3_11\/lib\/python3.11\/site-packages (from notebook>=4.4.1->widgetsnbextension~=3.6.10->ipywidgets) (1.8.3)\r\n",
      "Requirement already satisfied: terminado>=0.8.3 in \/opt\/python\/envs\/default_3_11\/lib\/python3.11\/site-packages (from notebook>=4.4.1->widgetsnbextension~=3.6.10->ipywidgets) (0.18.1)\r\n",
      "Requirement already satisfied: prometheus-client in \/opt\/python\/envs\/default_3_11\/lib\/python3.11\/site-packages (from notebook>=4.4.1->widgetsnbextension~=3.6.10->ipywidgets) (0.21.1)\r\n",
      "Requirement already satisfied: nbclassic>=0.4.7 in \/opt\/python\/envs\/default_3_11\/lib\/python3.11\/site-packages (from notebook>=4.4.1->widgetsnbextension~=3.6.10->ipywidgets) (1.3.0)\r\n",
      "Requirement already satisfied: ptyprocess>=0.5 in \/opt\/python\/envs\/default_3_11\/lib\/python3.11\/site-packages (from pexpect>4.3->ipython>=4.0.0->ipywidgets) (0.7.0)\r\n",
      "Requirement already satisfied: wcwidth in \/opt\/python\/envs\/default_3_11\/lib\/python3.11\/site-packages (from prompt_toolkit<3.1.0,>=3.0.41->ipython>=4.0.0->ipywidgets) (0.2.13)\r\n",
      "Requirement already satisfied: executing>=1.2.0 in \/opt\/python\/envs\/default_3_11\/lib\/python3.11\/site-packages (from stack_data->ipython>=4.0.0->ipywidgets) (2.2.0)\r\n",
      "Requirement already satisfied: asttokens>=2.1.0 in \/opt\/python\/envs\/default_3_11\/lib\/python3.11\/site-packages (from stack_data->ipython>=4.0.0->ipywidgets) (3.0.0)\r\n",
      "Requirement already satisfied: pure-eval in \/opt\/python\/envs\/default_3_11\/lib\/python3.11\/site-packages (from stack_data->ipython>=4.0.0->ipywidgets) (0.2.3)\r\n",
      "Requirement already satisfied: python-dateutil>=2.1 in \/opt\/python\/envs\/default_3_11\/lib\/python3.11\/site-packages (from jupyter-client<8,>=5.3.4->notebook>=4.4.1->widgetsnbextension~=3.6.10->ipywidgets) (2.9.0.post0)\r\n",
      "Requirement already satisfied: platformdirs>=2.5 in \/opt\/python\/envs\/default_3_11\/lib\/python3.11\/site-packages (from jupyter-core>=4.6.1->notebook>=4.4.1->widgetsnbextension~=3.6.10->ipywidgets) (4.3.7)\r\n",
      "Requirement already satisfied: notebook-shim>=0.2.3 in \/opt\/python\/envs\/default_3_11\/lib\/python3.11\/site-packages (from nbclassic>=0.4.7->notebook>=4.4.1->widgetsnbextension~=3.6.10->ipywidgets) (0.2.4)\r\n",
      "Requirement already satisfied: beautifulsoup4 in \/opt\/python\/envs\/default_3_11\/lib\/python3.11\/site-packages (from nbconvert>=5->notebook>=4.4.1->widgetsnbextension~=3.6.10->ipywidgets) (4.13.4)\r\n",
      "Requirement already satisfied: bleach!=5.0.0 in \/opt\/python\/envs\/default_3_11\/lib\/python3.11\/site-packages (from bleach[css]!=5.0.0->nbconvert>=5->notebook>=4.4.1->widgetsnbextension~=3.6.10->ipywidgets) (6.2.0)\r\n",
      "Requirement already satisfied: defusedxml in \/opt\/python\/envs\/default_3_11\/lib\/python3.11\/site-packages (from nbconvert>=5->notebook>=4.4.1->widgetsnbextension~=3.6.10->ipywidgets) (0.7.1)\r\n",
      "Requirement already satisfied: jupyterlab-pygments in \/opt\/python\/envs\/default_3_11\/lib\/python3.11\/site-packages (from nbconvert>=5->notebook>=4.4.1->widgetsnbextension~=3.6.10->ipywidgets) (0.3.0)\r\n",
      "Requirement already satisfied: markupsafe>=2.0 in \/opt\/python\/envs\/default_3_11\/lib\/python3.11\/site-packages (from nbconvert>=5->notebook>=4.4.1->widgetsnbextension~=3.6.10->ipywidgets) (3.0.2)\r\n",
      "Requirement already satisfied: mistune<4,>=2.0.3 in \/opt\/python\/envs\/default_3_11\/lib\/python3.11\/site-packages (from nbconvert>=5->notebook>=4.4.1->widgetsnbextension~=3.6.10->ipywidgets) (3.1.3)\r\n",
      "Requirement already satisfied: nbclient>=0.5.0 in \/opt\/python\/envs\/default_3_11\/lib\/python3.11\/site-packages (from nbconvert>=5->notebook>=4.4.1->widgetsnbextension~=3.6.10->ipywidgets) (0.10.2)\r\n",
      "Requirement already satisfied: packaging in \/opt\/python\/envs\/default_3_11\/lib\/python3.11\/site-packages (from nbconvert>=5->notebook>=4.4.1->widgetsnbextension~=3.6.10->ipywidgets) (25.0)\r\n",
      "Requirement already satisfied: pandocfilters>=1.4.1 in \/opt\/python\/envs\/default_3_11\/lib\/python3.11\/site-packages (from nbconvert>=5->notebook>=4.4.1->widgetsnbextension~=3.6.10->ipywidgets) (1.5.1)\r\n",
      "Requirement already satisfied: fastjsonschema>=2.15 in \/opt\/python\/envs\/default_3_11\/lib\/python3.11\/site-packages (from nbformat->notebook>=4.4.1->widgetsnbextension~=3.6.10->ipywidgets) (2.21.1)\r\n",
      "Requirement already satisfied: jsonschema>=2.6 in \/opt\/python\/envs\/default_3_11\/lib\/python3.11\/site-packages (from nbformat->notebook>=4.4.1->widgetsnbextension~=3.6.10->ipywidgets) (4.23.0)\r\n",
      "Requirement already satisfied: argon2-cffi-bindings in \/opt\/python\/envs\/default_3_11\/lib\/python3.11\/site-packages (from argon2-cffi->notebook>=4.4.1->widgetsnbextension~=3.6.10->ipywidgets) (21.2.0)\r\n",
      "Requirement already satisfied: debugpy>=1.6.5 in \/opt\/python\/envs\/default_3_11\/lib\/python3.11\/site-packages (from ipykernel->notebook>=4.4.1->widgetsnbextension~=3.6.10->ipywidgets) (1.8.14)\r\n",
      "Requirement already satisfied: psutil in \/opt\/python\/envs\/default_3_11\/lib\/python3.11\/site-packages (from ipykernel->notebook>=4.4.1->widgetsnbextension~=3.6.10->ipywidgets) (7.0.0)\r\n",
      "Requirement already satisfied: webencodings in \/opt\/python\/envs\/default_3_11\/lib\/python3.11\/site-packages (from bleach!=5.0.0->bleach[css]!=5.0.0->nbconvert>=5->notebook>=4.4.1->widgetsnbextension~=3.6.10->ipywidgets) (0.5.1)\r\n",
      "Requirement already satisfied: tinycss2<1.5,>=1.1.0 in \/opt\/python\/envs\/default_3_11\/lib\/python3.11\/site-packages (from bleach[css]!=5.0.0->nbconvert>=5->notebook>=4.4.1->widgetsnbextension~=3.6.10->ipywidgets) (1.4.0)\r\n",
      "Requirement already satisfied: attrs>=22.2.0 in \/opt\/python\/envs\/default_3_11\/lib\/python3.11\/site-packages (from jsonschema>=2.6->nbformat->notebook>=4.4.1->widgetsnbextension~=3.6.10->ipywidgets) (25.3.0)\r\n",
      "Requirement already satisfied: jsonschema-specifications>=2023.03.6 in \/opt\/python\/envs\/default_3_11\/lib\/python3.11\/site-packages (from jsonschema>=2.6->nbformat->notebook>=4.4.1->widgetsnbextension~=3.6.10->ipywidgets) (2025.4.1)\r\n",
      "Requirement already satisfied: referencing>=0.28.4 in \/opt\/python\/envs\/default_3_11\/lib\/python3.11\/site-packages (from jsonschema>=2.6->nbformat->notebook>=4.4.1->widgetsnbextension~=3.6.10->ipywidgets) (0.36.2)\r\n",
      "Requirement already satisfied: rpds-py>=0.7.1 in \/opt\/python\/envs\/default_3_11\/lib\/python3.11\/site-packages (from jsonschema>=2.6->nbformat->notebook>=4.4.1->widgetsnbextension~=3.6.10->ipywidgets) (0.24.0)\r\n",
      "Requirement already satisfied: jupyter-server<3,>=1.8 in \/opt\/python\/envs\/default_3_11\/lib\/python3.11\/site-packages (from notebook-shim>=0.2.3->nbclassic>=0.4.7->notebook>=4.4.1->widgetsnbextension~=3.6.10->ipywidgets) (1.24.0)\r\n",
      "Requirement already satisfied: six>=1.5 in \/opt\/python\/envs\/default_3_11\/lib\/python3.11\/site-packages (from python-dateutil>=2.1->jupyter-client<8,>=5.3.4->notebook>=4.4.1->widgetsnbextension~=3.6.10->ipywidgets) (1.17.0)\r\n",
      "Requirement already satisfied: cffi>=1.0.1 in \/opt\/python\/envs\/default_3_11\/lib\/python3.11\/site-packages (from argon2-cffi-bindings->argon2-cffi->notebook>=4.4.1->widgetsnbextension~=3.6.10->ipywidgets) (1.17.1)\r\n",
      "Requirement already satisfied: soupsieve>1.2 in \/opt\/python\/envs\/default_3_11\/lib\/python3.11\/site-packages (from beautifulsoup4->nbconvert>=5->notebook>=4.4.1->widgetsnbextension~=3.6.10->ipywidgets) (2.7)\r\n",
      "Requirement already satisfied: pycparser in \/opt\/python\/envs\/default_3_11\/lib\/python3.11\/site-packages (from cffi>=1.0.1->argon2-cffi-bindings->argon2-cffi->notebook>=4.4.1->widgetsnbextension~=3.6.10->ipywidgets) (2.22)\r\n",
      "Requirement already satisfied: anyio<4,>=3.1.0 in \/opt\/python\/envs\/default_3_11\/lib\/python3.11\/site-packages (from jupyter-server<3,>=1.8->notebook-shim>=0.2.3->nbclassic>=0.4.7->notebook>=4.4.1->widgetsnbextension~=3.6.10->ipywidgets) (3.7.1)\r\n",
      "Requirement already satisfied: websocket-client in \/opt\/python\/envs\/default_3_11\/lib\/python3.11\/site-packages (from jupyter-server<3,>=1.8->notebook-shim>=0.2.3->nbclassic>=0.4.7->notebook>=4.4.1->widgetsnbextension~=3.6.10->ipywidgets) (1.8.0)\r\n",
      "Requirement already satisfied: idna>=2.8 in \/opt\/python\/envs\/default_3_11\/lib\/python3.11\/site-packages (from anyio<4,>=3.1.0->jupyter-server<3,>=1.8->notebook-shim>=0.2.3->nbclassic>=0.4.7->notebook>=4.4.1->widgetsnbextension~=3.6.10->ipywidgets) (3.10)\r\n",
      "Requirement already satisfied: sniffio>=1.1 in \/opt\/python\/envs\/default_3_11\/lib\/python3.11\/site-packages (from anyio<4,>=3.1.0->jupyter-server<3,>=1.8->notebook-shim>=0.2.3->nbclassic>=0.4.7->notebook>=4.4.1->widgetsnbextension~=3.6.10->ipywidgets) (1.3.1)\r\n",
      "Note: you may need to restart the kernel to use updated packages.\n"
     ],
     "output_type":"stream"
    }
   ],
   "metadata":{
    "datalore":{
     "node_id":"hlb8ar59XksYltTlWRchCO",
     "type":"CODE",
     "hide_input_from_viewers":true,
     "hide_output_from_viewers":true
    }
   }
  },
  {
   "cell_type":"code",
   "source":[
    "import numpy as np\n",
    "import ipywidgets as widgets\n",
    "from IPython.display import display, Markdown\n",
    "\n",
    "def calc_credit_deposit(\n",
    "    loan_amount, loan_term_months, credit_rate, deposit_rate, capitalization, tax_rate\n",
    "):\n",
    "    # Конвертация годовых ставок в месячные\n",
    "    monthly_credit_rate = credit_rate \/ 12 \/ 100\n",
    "    monthly_deposit_rate = deposit_rate \/ 12 \/ 100\n",
    "    tax_multiplier = 1 - tax_rate \/ 100\n",
    "\n",
    "    # Аннуитетный платёж\n",
    "    if monthly_credit_rate > 0:\n",
    "        annuity_payment = loan_amount * (monthly_credit_rate * (1 + monthly_credit_rate) ** loan_term_months) \/ ((1 + monthly_credit_rate) ** loan_term_months - 1)\n",
    "    else:\n",
    "        annuity_payment = loan_amount \/ loan_term_months\n",
    "\n",
    "    # Доход по депозиту\n",
    "    deposit_balance = loan_amount\n",
    "    total_deposit_interest = 0\n",
    "\n",
    "    for _ in range(loan_term_months):\n",
    "        if capitalization:\n",
    "            interest = deposit_balance * monthly_deposit_rate\n",
    "            deposit_balance += interest\n",
    "        else:\n",
    "            interest = loan_amount * monthly_deposit_rate\n",
    "        total_deposit_interest += interest\n",
    "\n",
    "    net_interest = total_deposit_interest * tax_multiplier\n",
    "    total_credit_payment = annuity_payment * loan_term_months\n",
    "    profit = loan_amount + net_interest - total_credit_payment\n",
    "\n",
    "    # Вывод\n",
    "    display(Markdown(f\"\"\"\n",
    "### 📈 Результаты:\n",
    "- 💸 Ежемесячный платёж по кредиту: **{annuity_payment:,.2f}**\n",
    "- 🏦 Доход по депозиту (после налога): **{net_interest:,.2f}**\n",
    "- 📉 Общая сумма выплат по кредиту: **{total_credit_payment:,.2f}**\n",
    "- 🧾 Чистая прибыль\/убыток: **{profit:,.2f}**\n",
    "\"\"\"))\n",
    "\n",
    "\n",
    "# Виджеты\n",
    "widgets.interact(\n",
    "    calc_credit_deposit,\n",
    "    loan_amount=widgets.IntSlider(value=1_000_000, min=100_000, max=10_000_000, step=50_000, description='Сумма кредита'),\n",
    "    loan_term_months=widgets.IntSlider(value=24, min=6, max=120, step=6, description='Срок (мес)'),\n",
    "    credit_rate=widgets.FloatSlider(value=14.0, min=1.0, max=30.0, step=0.1, description='Кредит % год'),\n",
    "    deposit_rate=widgets.FloatSlider(value=17.0, min=1.0, max=30.0, step=0.1, description='Депозит % год'),\n",
    "    capitalization=widgets.Checkbox(value=True, description='Капитализация'),\n",
    "    tax_rate=widgets.FloatSlider(value=13.0, min=0.0, max=20.0, step=0.5, description='Налог %'),\n",
    ");"
   ],
   "execution_count":4,
   "outputs":[
    {
     "data":{
      "application\/vnd.jupyter.widget-view+json":{
       "version_major":2,
       "version_minor":0,
       "model_id":"55c011729ec2492b971a0991e2e902f3"
      }
     },
     "metadata":{
      "application\/vnd.jupyter.widget-view+json":{
       "datalore":{
        "widget_id":"p85o4Sb9VvT1Vp70BvavcM"
       }
      }
     },
     "output_type":"display_data"
    },
    {
     "data":{
      "text\/markdown":[
       "\n",
       "### 📈 Результаты:\n",
       "- 💸 Ежемесячный платёж по кредиту: **67,218.04**\n",
       "- 🏦 Доход по депозиту (после налога): **381,446.91**\n",
       "- 📉 Общая сумма выплат по кредиту: **1,613,232.88**\n",
       "- 🧾 Чистая прибыль\/убыток: **168,214.03**\n"
      ]
     },
     "metadata":{},
     "output_type":"display_data"
    }
   ],
   "metadata":{
    "datalore":{
     "node_id":"yqDHJcrVuZOL3Ju1F8t6xV",
     "type":"CODE",
     "hide_input_from_viewers":true,
     "hide_output_from_viewers":true
    }
   }
  },
  {
   "cell_type":"code",
   "source":[],
   "execution_count":null,
   "outputs":[],
   "metadata":{
    "datalore":{
     "node_id":"pU7kB3MSS436BLwoiFLLUL",
     "type":"CODE",
     "hide_input_from_viewers":true,
     "hide_output_from_viewers":true
    }
   }
  },
  {
   "cell_type":"code",
   "source":[
    "slider_1 = 5"
   ],
   "execution_count":22,
   "outputs":[],
   "metadata":{
    "datalore":{
     "node_id":"4E0gvZCS3FgRtBhHwsIJmM",
     "type":"CONTROL",
     "hide_input_from_viewers":true,
     "hide_output_from_viewers":true,
     "controls_state":[
      {
       "type":"SLIDER",
       "label":"Slider 1",
       "variable":"slider_1",
       "value":"5",
       "min":"0",
       "max":"10",
       "step":"1",
       "minExpression":"",
       "maxExpression":"",
       "stepExpression":""
      }
     ]
    }
   }
  },
  {
   "cell_type":"markdown",
   "source":[
    "# Sheet 2"
   ],
   "attachments":{},
   "metadata":{
    "datalore":{
     "node_id":"Sheet 2",
     "type":"MD",
     "hide_input_from_viewers":false,
     "hide_output_from_viewers":false,
     "sheet_delimiter":true
    }
   }
  },
  {
   "cell_type":"code",
   "source":[
    "pip install streamlit"
   ],
   "execution_count":5,
   "outputs":[
    {
     "name":"stdout",
     "text":[
      "Collecting streamlit\r\n",
      "  Downloading streamlit-1.45.0-py3-none-any.whl.metadata (8.9 kB)\r\n",
      "Collecting altair<6,>=4.0 (from streamlit)\r\n",
      "  Downloading altair-5.5.0-py3-none-any.whl.metadata (11 kB)\r\n",
      "Collecting blinker<2,>=1.5.0 (from streamlit)\r\n",
      "  Downloading blinker-1.9.0-py3-none-any.whl.metadata (1.6 kB)\r\n",
      "Collecting cachetools<6,>=4.0 (from streamlit)\r\n",
      "  Downloading cachetools-5.5.2-py3-none-any.whl.metadata (5.4 kB)\r\n",
      "Requirement already satisfied: click<9,>=7.0 in \/opt\/python\/envs\/default_3_11\/lib\/python3.11\/site-packages (from streamlit) (8.1.8)\r\n",
      "Requirement already satisfied: numpy<3,>=1.23 in \/opt\/python\/envs\/default_3_11\/lib\/python3.11\/site-packages (from streamlit) (1.26.4)\r\n",
      "Collecting packaging<25,>=20 (from streamlit)\r\n",
      "  Downloading packaging-24.2-py3-none-any.whl.metadata (3.2 kB)\r\n",
      "Requirement already satisfied: pandas<3,>=1.4.0 in \/opt\/python\/envs\/default_3_11\/lib\/python3.11\/site-packages (from streamlit) (2.2.3)\r\n",
      "Requirement already satisfied: pillow<12,>=7.1.0 in \/opt\/python\/envs\/default_3_11\/lib\/python3.11\/site-packages (from streamlit) (11.2.1)\r\n",
      "Requirement already satisfied: protobuf<7,>=3.20 in \/opt\/python\/envs\/default_3_11\/lib\/python3.11\/site-packages (from streamlit) (4.25.5)\r\n",
      "Requirement already satisfied: pyarrow>=7.0 in \/opt\/python\/envs\/default_3_11\/lib\/python3.11\/site-packages (from streamlit) (19.0.1)\r\n",
      "Requirement already satisfied: requests<3,>=2.27 in \/opt\/python\/envs\/default_3_11\/lib\/python3.11\/site-packages (from streamlit) (2.32.3)\r\n",
      "Collecting tenacity<10,>=8.1.0 (from streamlit)\r\n",
      "  Downloading tenacity-9.1.2-py3-none-any.whl.metadata (1.2 kB)\r\n",
      "Collecting toml<2,>=0.10.1 (from streamlit)\r\n",
      "  Downloading toml-0.10.2-py2.py3-none-any.whl.metadata (7.1 kB)\r\n",
      "Requirement already satisfied: typing-extensions<5,>=4.4.0 in \/opt\/python\/envs\/default_3_11\/lib\/python3.11\/site-packages (from streamlit) (4.13.2)\r\n",
      "Collecting watchdog<7,>=2.1.5 (from streamlit)\r\n",
      "  Downloading watchdog-6.0.0-py3-none-manylinux2014_x86_64.whl.metadata (44 kB)\r\n",
      "Collecting gitpython!=3.1.19,<4,>=3.0.7 (from streamlit)\r\n",
      "  Downloading GitPython-3.1.44-py3-none-any.whl.metadata (13 kB)\r\n",
      "Collecting pydeck<1,>=0.8.0b4 (from streamlit)\r\n",
      "  Downloading pydeck-0.9.1-py2.py3-none-any.whl.metadata (4.1 kB)\r\n",
      "Requirement already satisfied: tornado<7,>=6.0.3 in \/opt\/python\/envs\/default_3_11\/lib\/python3.11\/site-packages (from streamlit) (6.4.2)\r\n",
      "Requirement already satisfied: jinja2 in \/opt\/python\/envs\/default_3_11\/lib\/python3.11\/site-packages (from altair<6,>=4.0->streamlit) (3.1.6)\r\n",
      "Requirement already satisfied: jsonschema>=3.0 in \/opt\/python\/envs\/default_3_11\/lib\/python3.11\/site-packages (from altair<6,>=4.0->streamlit) (4.23.0)\r\n",
      "Requirement already satisfied: narwhals>=1.14.2 in \/opt\/python\/envs\/default_3_11\/lib\/python3.11\/site-packages (from altair<6,>=4.0->streamlit) (1.36.0)\r\n",
      "Collecting gitdb<5,>=4.0.1 (from gitpython!=3.1.19,<4,>=3.0.7->streamlit)\r\n",
      "  Downloading gitdb-4.0.12-py3-none-any.whl.metadata (1.2 kB)\r\n",
      "Requirement already satisfied: python-dateutil>=2.8.2 in \/opt\/python\/envs\/default_3_11\/lib\/python3.11\/site-packages (from pandas<3,>=1.4.0->streamlit) (2.9.0.post0)\r\n",
      "Requirement already satisfied: pytz>=2020.1 in \/opt\/python\/envs\/default_3_11\/lib\/python3.11\/site-packages (from pandas<3,>=1.4.0->streamlit) (2025.2)\r\n",
      "Requirement already satisfied: tzdata>=2022.7 in \/opt\/python\/envs\/default_3_11\/lib\/python3.11\/site-packages (from pandas<3,>=1.4.0->streamlit) (2025.2)\r\n",
      "Requirement already satisfied: charset-normalizer<4,>=2 in \/opt\/python\/envs\/default_3_11\/lib\/python3.11\/site-packages (from requests<3,>=2.27->streamlit) (3.4.1)\r\n",
      "Requirement already satisfied: idna<4,>=2.5 in \/opt\/python\/envs\/default_3_11\/lib\/python3.11\/site-packages (from requests<3,>=2.27->streamlit) (3.10)\r\n",
      "Requirement already satisfied: urllib3<3,>=1.21.1 in \/opt\/python\/envs\/default_3_11\/lib\/python3.11\/site-packages (from requests<3,>=2.27->streamlit) (2.4.0)\r\n",
      "Requirement already satisfied: certifi>=2017.4.17 in \/opt\/python\/envs\/default_3_11\/lib\/python3.11\/site-packages (from requests<3,>=2.27->streamlit) (2025.1.31)\r\n",
      "Collecting smmap<6,>=3.0.1 (from gitdb<5,>=4.0.1->gitpython!=3.1.19,<4,>=3.0.7->streamlit)\r\n",
      "  Downloading smmap-5.0.2-py3-none-any.whl.metadata (4.3 kB)\r\n",
      "Requirement already satisfied: MarkupSafe>=2.0 in \/opt\/python\/envs\/default_3_11\/lib\/python3.11\/site-packages (from jinja2->altair<6,>=4.0->streamlit) (3.0.2)\r\n",
      "Requirement already satisfied: attrs>=22.2.0 in \/opt\/python\/envs\/default_3_11\/lib\/python3.11\/site-packages (from jsonschema>=3.0->altair<6,>=4.0->streamlit) (25.3.0)\r\n",
      "Requirement already satisfied: jsonschema-specifications>=2023.03.6 in \/opt\/python\/envs\/default_3_11\/lib\/python3.11\/site-packages (from jsonschema>=3.0->altair<6,>=4.0->streamlit) (2025.4.1)\r\n",
      "Requirement already satisfied: referencing>=0.28.4 in \/opt\/python\/envs\/default_3_11\/lib\/python3.11\/site-packages (from jsonschema>=3.0->altair<6,>=4.0->streamlit) (0.36.2)\r\n",
      "Requirement already satisfied: rpds-py>=0.7.1 in \/opt\/python\/envs\/default_3_11\/lib\/python3.11\/site-packages (from jsonschema>=3.0->altair<6,>=4.0->streamlit) (0.24.0)\r\n",
      "Requirement already satisfied: six>=1.5 in \/opt\/python\/envs\/default_3_11\/lib\/python3.11\/site-packages (from python-dateutil>=2.8.2->pandas<3,>=1.4.0->streamlit) (1.17.0)\r\n",
      "Downloading streamlit-1.45.0-py3-none-any.whl (9.9 MB)\r\n",
      "\u001b[?25l   \u001b[90m━━━━━━━━━━━━━━━━━━━━━━━━━━━━━━━━━━━━━━━━\u001b[0m \u001b[32m0.0\/9.9 MB\u001b[0m \u001b[31m?\u001b[0m eta \u001b[36m-:--:--\u001b[0m\r\u001b[2K   \u001b[90m━━━━━━━━━━━━━━━━━━━━━━━━━━━━━━━━━━━━━━━━\u001b[0m \u001b[32m9.9\/9.9 MB\u001b[0m \u001b[31m194.4 MB\/s\u001b[0m eta \u001b[36m0:00:00\u001b[0m\r\n",
      "\u001b[?25hDownloading altair-5.5.0-py3-none-any.whl (731 kB)\r\n",
      "\u001b[?25l   \u001b[90m━━━━━━━━━━━━━━━━━━━━━━━━━━━━━━━━━━━━━━━━\u001b[0m \u001b[32m0.0\/731.2 kB\u001b[0m \u001b[31m?\u001b[0m eta \u001b[36m-:--:--\u001b[0m\r\u001b[2K   \u001b[90m━━━━━━━━━━━━━━━━━━━━━━━━━━━━━━━━━━━━━━━━\u001b[0m \u001b[32m731.2\/731.2 kB\u001b[0m \u001b[31m82.9 MB\/s\u001b[0m eta \u001b[36m0:00:00\u001b[0m\r\n",
      "\u001b[?25hDownloading blinker-1.9.0-py3-none-any.whl (8.5 kB)\r\n",
      "Downloading cachetools-5.5.2-py3-none-any.whl (10 kB)\r\n",
      "Downloading GitPython-3.1.44-py3-none-any.whl (207 kB)\r\n",
      "Downloading packaging-24.2-py3-none-any.whl (65 kB)\r\n",
      "Downloading pydeck-0.9.1-py2.py3-none-any.whl (6.9 MB)\r\n",
      "\u001b[?25l   \u001b[90m━━━━━━━━━━━━━━━━━━━━━━━━━━━━━━━━━━━━━━━━\u001b[0m \u001b[32m0.0\/6.9 MB\u001b[0m \u001b[31m?\u001b[0m eta \u001b[36m-:--:--\u001b[0m\r\u001b[2K   \u001b[90m━━━━━━━━━━━━━━━━━━━━━━━━━━━━━━━━━━━━━━━━\u001b[0m \u001b[32m6.9\/6.9 MB\u001b[0m \u001b[31m78.1 MB\/s\u001b[0m eta \u001b[36m0:00:00\u001b[0m\r\n",
      "\u001b[?25hDownloading tenacity-9.1.2-py3-none-any.whl (28 kB)\r\n",
      "Downloading toml-0.10.2-py2.py3-none-any.whl (16 kB)\r\n",
      "Downloading watchdog-6.0.0-py3-none-manylinux2014_x86_64.whl (79 kB)\r\n",
      "Downloading gitdb-4.0.12-py3-none-any.whl (62 kB)\r\n",
      "Downloading smmap-5.0.2-py3-none-any.whl (24 kB)\r\n",
      "Installing collected packages: watchdog, toml, tenacity, smmap, packaging, cachetools, blinker, pydeck, gitdb, gitpython, altair, streamlit\r\n",
      "  Attempting uninstall: packaging\r\n",
      "    Found existing installation: packaging 25.0\r\n",
      "    Uninstalling packaging-25.0:\r\n",
      "      Successfully uninstalled packaging-25.0\r\n",
      "Successfully installed altair-5.5.0 blinker-1.9.0 cachetools-5.5.2 gitdb-4.0.12 gitpython-3.1.44 packaging-24.2 pydeck-0.9.1 smmap-5.0.2 streamlit-1.45.0 tenacity-9.1.2 toml-0.10.2 watchdog-6.0.0\r\n",
      "Note: you may need to restart the kernel to use updated packages.\n"
     ],
     "output_type":"stream"
    }
   ],
   "metadata":{
    "datalore":{
     "node_id":"Q900JJhmrIReK36TQIRF1I",
     "type":"CODE",
     "hide_input_from_viewers":true,
     "hide_output_from_viewers":true
    }
   }
  },
  {
   "cell_type":"code",
   "source":[
    "!streamlit run app.py"
   ],
   "execution_count":14,
   "outputs":[
    {
     "name":"stdout",
     "text":[
      "Usage: streamlit run [OPTIONS] TARGET [ARGS]...\r\n",
      "Try 'streamlit run --help' for help.\r\n",
      "\r\n",
      "Error: Invalid value: File does not exist: app.py\r\n"
     ],
     "output_type":"stream"
    }
   ],
   "metadata":{
    "datalore":{
     "node_id":"KhODdJxzI1EY7bUFxVrzhM",
     "type":"CODE",
     "hide_input_from_viewers":true,
     "hide_output_from_viewers":true
    }
   }
  },
  {
   "cell_type":"code",
   "source":[
    "import streamlit as st\n",
    "\n",
    "st.title(\"📈 Инвестиционный калькулятор: Кредит → Депозит\")\n",
    "\n",
    "loan_amount = st.slider(\"Сумма кредита (₽)\", 100_000, 10_000_000, 1_000_000, step=100_000)\n",
    "loan_term = st.slider(\"Срок кредита (мес)\", 6, 120, 24, step=6)\n",
    "credit_rate = st.slider(\"Ставка по кредиту (%)\", 1.0, 30.0, 14.0, step=0.1)\n",
    "deposit_rate = st.slider(\"Ставка по депозиту (%)\", 1.0, 30.0, 17.0, step=0.1)\n",
    "capitalization = st.checkbox(\"Капитализация процентов на депозите\", value=True)\n",
    "tax_rate = st.slider(\"Налог на доход (%)\", 0.0, 20.0, 13.0, step=0.5)\n",
    "\n",
    "monthly_credit_rate = credit_rate \/ 12 \/ 100\n",
    "monthly_deposit_rate = deposit_rate \/ 12 \/ 100\n",
    "tax_multiplier = 1 - tax_rate \/ 100\n",
    "\n",
    "if monthly_credit_rate > 0:\n",
    "    annuity = loan_amount * (monthly_credit_rate * (1 + monthly_credit_rate) ** loan_term) \/ ((1 + monthly_credit_rate) ** loan_term - 1)\n",
    "else:\n",
    "    annuity = loan_amount \/ loan_term\n",
    "\n",
    "deposit_balance = loan_amount\n",
    "total_deposit_interest = 0\n",
    "\n",
    "for _ in range(loan_term):\n",
    "    if capitalization:\n",
    "        interest = deposit_balance * monthly_deposit_rate\n",
    "        deposit_balance += interest\n",
    "    else:\n",
    "        interest = loan_amount * monthly_deposit_rate\n",
    "    total_deposit_interest += interest\n",
    "\n",
    "net_interest = total_deposit_interest * tax_multiplier\n",
    "total_credit_paid = annuity * loan_term\n",
    "profit = loan_amount + net_interest - total_credit_paid\n",
    "\n",
    "st.subheader(\"📊 Результаты:\")\n",
    "st.write(f\"💸 Ежемесячный платёж по кредиту: **{annuity:,.2f} ₽**\")\n",
    "st.write(f\"🏦 Доход по депозиту (после налога): **{net_interest:,.2f} ₽**\")\n",
    "st.write(f\"📉 Общая сумма выплат по кредиту: **{total_credit_paid:,.2f} ₽**\")\n",
    "st.write(f\"🧾 Чистая прибыль\/убыток: **{profit:,.2f} ₽**\")"
   ],
   "execution_count":15,
   "outputs":[
    {
     "name":"stderr",
     "text":[
      "2025-05-12 09:59:22.967 Thread 'MainThread': missing ScriptRunContext! This warning can be ignored when running in bare mode.\n",
      "2025-05-12 09:59:22.968 Thread 'MainThread': missing ScriptRunContext! This warning can be ignored when running in bare mode.\n",
      "2025-05-12 09:59:22.970 Thread 'MainThread': missing ScriptRunContext! This warning can be ignored when running in bare mode.\n",
      "2025-05-12 09:59:22.972 Thread 'MainThread': missing ScriptRunContext! This warning can be ignored when running in bare mode.\n",
      "2025-05-12 09:59:22.975 Thread 'MainThread': missing ScriptRunContext! This warning can be ignored when running in bare mode.\n",
      "2025-05-12 09:59:22.976 Thread 'MainThread': missing ScriptRunContext! This warning can be ignored when running in bare mode.\n",
      "2025-05-12 09:59:22.977 Thread 'MainThread': missing ScriptRunContext! This warning can be ignored when running in bare mode.\n",
      "2025-05-12 09:59:22.978 Thread 'MainThread': missing ScriptRunContext! This warning can be ignored when running in bare mode.\n",
      "2025-05-12 09:59:22.979 Thread 'MainThread': missing ScriptRunContext! This warning can be ignored when running in bare mode.\n",
      "2025-05-12 09:59:22.980 Thread 'MainThread': missing ScriptRunContext! This warning can be ignored when running in bare mode.\n",
      "2025-05-12 09:59:22.981 Thread 'MainThread': missing ScriptRunContext! This warning can be ignored when running in bare mode.\n",
      "2025-05-12 09:59:22.985 Thread 'MainThread': missing ScriptRunContext! This warning can be ignored when running in bare mode.\n",
      "2025-05-12 09:59:22.988 Thread 'MainThread': missing ScriptRunContext! This warning can be ignored when running in bare mode.\n",
      "2025-05-12 09:59:22.989 Thread 'MainThread': missing ScriptRunContext! This warning can be ignored when running in bare mode.\n",
      "2025-05-12 09:59:22.991 Thread 'MainThread': missing ScriptRunContext! This warning can be ignored when running in bare mode.\n",
      "2025-05-12 09:59:22.994 Thread 'MainThread': missing ScriptRunContext! This warning can be ignored when running in bare mode.\n",
      "2025-05-12 09:59:22.996 Thread 'MainThread': missing ScriptRunContext! This warning can be ignored when running in bare mode.\n",
      "2025-05-12 09:59:22.997 Thread 'MainThread': missing ScriptRunContext! This warning can be ignored when running in bare mode.\n",
      "2025-05-12 09:59:23.000 Thread 'MainThread': missing ScriptRunContext! This warning can be ignored when running in bare mode.\n",
      "2025-05-12 09:59:23.003 Thread 'MainThread': missing ScriptRunContext! This warning can be ignored when running in bare mode.\n",
      "2025-05-12 09:59:23.006 Thread 'MainThread': missing ScriptRunContext! This warning can be ignored when running in bare mode.\n",
      "2025-05-12 09:59:23.011 Thread 'MainThread': missing ScriptRunContext! This warning can be ignored when running in bare mode.\n",
      "2025-05-12 09:59:23.012 Thread 'MainThread': missing ScriptRunContext! This warning can be ignored when running in bare mode.\n",
      "2025-05-12 09:59:23.015 Thread 'MainThread': missing ScriptRunContext! This warning can be ignored when running in bare mode.\n",
      "2025-05-12 09:59:23.017 Thread 'MainThread': missing ScriptRunContext! This warning can be ignored when running in bare mode.\n",
      "2025-05-12 09:59:23.018 Thread 'MainThread': missing ScriptRunContext! This warning can be ignored when running in bare mode.\n",
      "2025-05-12 09:59:23.021 Thread 'MainThread': missing ScriptRunContext! This warning can be ignored when running in bare mode.\n",
      "2025-05-12 09:59:23.023 Thread 'MainThread': missing ScriptRunContext! This warning can be ignored when running in bare mode.\n",
      "2025-05-12 09:59:23.025 Thread 'MainThread': missing ScriptRunContext! This warning can be ignored when running in bare mode.\n",
      "2025-05-12 09:59:23.026 Thread 'MainThread': missing ScriptRunContext! This warning can be ignored when running in bare mode.\n",
      "2025-05-12 09:59:23.028 Thread 'MainThread': missing ScriptRunContext! This warning can be ignored when running in bare mode.\n",
      "2025-05-12 09:59:23.028 Thread 'MainThread': missing ScriptRunContext! This warning can be ignored when running in bare mode.\n",
      "2025-05-12 09:59:23.030 Thread 'MainThread': missing ScriptRunContext! This warning can be ignored when running in bare mode.\n",
      "2025-05-12 09:59:23.033 Thread 'MainThread': missing ScriptRunContext! This warning can be ignored when running in bare mode.\n",
      "2025-05-12 09:59:23.035 Thread 'MainThread': missing ScriptRunContext! This warning can be ignored when running in bare mode.\n",
      "2025-05-12 09:59:23.037 Thread 'MainThread': missing ScriptRunContext! This warning can be ignored when running in bare mode.\n",
      "2025-05-12 09:59:23.040 Thread 'MainThread': missing ScriptRunContext! This warning can be ignored when running in bare mode.\n",
      "2025-05-12 09:59:23.042 Thread 'MainThread': missing ScriptRunContext! This warning can be ignored when running in bare mode.\n",
      "2025-05-12 09:59:23.043 Thread 'MainThread': missing ScriptRunContext! This warning can be ignored when running in bare mode.\n",
      "2025-05-12 09:59:23.044 Thread 'MainThread': missing ScriptRunContext! This warning can be ignored when running in bare mode.\n",
      "2025-05-12 09:59:23.046 Thread 'MainThread': missing ScriptRunContext! This warning can be ignored when running in bare mode.\n",
      "2025-05-12 09:59:23.047 Thread 'MainThread': missing ScriptRunContext! This warning can be ignored when running in bare mode.\n"
     ],
     "output_type":"stream"
    }
   ],
   "metadata":{
    "datalore":{
     "node_id":"5q2MkphSNDjcauFvXrMTUV",
     "type":"CODE",
     "hide_input_from_viewers":true,
     "hide_output_from_viewers":true
    }
   }
  },
  {
   "cell_type":"code",
   "source":[],
   "execution_count":null,
   "outputs":[],
   "metadata":{
    "datalore":{
     "node_id":"jOLq4IVPbIQQ7zNRWr7D12",
     "type":"CODE",
     "hide_input_from_viewers":true,
     "hide_output_from_viewers":true
    }
   }
  }
 ],
 "metadata":{
  "widgets":{
   "application\/vnd.jupyter.widget-state+json":{
    "version_major":2,
    "version_minor":0,
    "state":{
     "6202de02fa8c4972b1c95ed304791547":{
      "model_name":"LayoutModel",
      "model_module":"@jupyter-widgets\/base",
      "model_module_version":"1.2.0",
      "state":{}
     },
     "fcd9d57e951948b0b81c24172f16df31":{
      "model_name":"SliderStyleModel",
      "model_module":"@jupyter-widgets\/controls",
      "model_module_version":"1.5.0",
      "state":{
       "_model_module_version":"1.5.0",
       "_view_module_version":"1.2.0",
       "description_width":""
      }
     },
     "dc85e2b0ad9d4706ae84f3c6bfc0e428":{
      "model_name":"IntSliderModel",
      "model_module":"@jupyter-widgets\/controls",
      "model_module_version":"1.5.0",
      "state":{
       "_model_module_version":"1.5.0",
       "_view_module_version":"1.5.0",
       "description":"Сумма кредита",
       "value":1400000,
       "max":10000000,
       "min":100000,
       "step":50000,
       "style":"IPY_MODEL_fcd9d57e951948b0b81c24172f16df31",
       "description_tooltip":null,
       "layout":"IPY_MODEL_6202de02fa8c4972b1c95ed304791547"
      }
     },
     "95ce5e95474743a0af2e78ed808eaaf7":{
      "model_name":"LayoutModel",
      "model_module":"@jupyter-widgets\/base",
      "model_module_version":"1.2.0",
      "state":{}
     },
     "3985cf354d8a46128afbc09c95bdf5eb":{
      "model_name":"SliderStyleModel",
      "model_module":"@jupyter-widgets\/controls",
      "model_module_version":"1.5.0",
      "state":{
       "_model_module_version":"1.5.0",
       "_view_module_version":"1.2.0",
       "description_width":""
      }
     },
     "874de56a55c8436990505175c3682809":{
      "model_name":"IntSliderModel",
      "model_module":"@jupyter-widgets\/controls",
      "model_module_version":"1.5.0",
      "state":{
       "_model_module_version":"1.5.0",
       "_view_module_version":"1.5.0",
       "description":"Срок (мес)",
       "value":24,
       "max":120,
       "min":6,
       "step":6,
       "style":"IPY_MODEL_3985cf354d8a46128afbc09c95bdf5eb",
       "description_tooltip":null,
       "layout":"IPY_MODEL_95ce5e95474743a0af2e78ed808eaaf7"
      }
     },
     "25cb1a1c74b74236a7746de329e96e4c":{
      "model_name":"LayoutModel",
      "model_module":"@jupyter-widgets\/base",
      "model_module_version":"1.2.0",
      "state":{}
     },
     "7059ce7ddccd4d3584954672f6c8da74":{
      "model_name":"SliderStyleModel",
      "model_module":"@jupyter-widgets\/controls",
      "model_module_version":"1.5.0",
      "state":{
       "_model_module_version":"1.5.0",
       "_view_module_version":"1.2.0",
       "description_width":""
      }
     },
     "56fcf10d51bb40a9aee07afcb52a4e05":{
      "model_name":"FloatSliderModel",
      "model_module":"@jupyter-widgets\/controls",
      "model_module_version":"1.5.0",
      "state":{
       "_model_module_version":"1.5.0",
       "_view_module_version":"1.5.0",
       "description":"Кредит % год",
       "value":14,
       "max":30,
       "min":1,
       "step":0.1,
       "description_tooltip":null,
       "layout":"IPY_MODEL_25cb1a1c74b74236a7746de329e96e4c",
       "style":"IPY_MODEL_7059ce7ddccd4d3584954672f6c8da74"
      }
     },
     "fad1f88a922f4a87a2fef05732183cc7":{
      "model_name":"LayoutModel",
      "model_module":"@jupyter-widgets\/base",
      "model_module_version":"1.2.0",
      "state":{}
     },
     "a8f7bf4b5400431a8091a68c90bed42c":{
      "model_name":"SliderStyleModel",
      "model_module":"@jupyter-widgets\/controls",
      "model_module_version":"1.5.0",
      "state":{
       "_model_module_version":"1.5.0",
       "_view_module_version":"1.2.0",
       "description_width":""
      }
     },
     "dc2199c9fd964019a1563498b8865da2":{
      "model_name":"FloatSliderModel",
      "model_module":"@jupyter-widgets\/controls",
      "model_module_version":"1.5.0",
      "state":{
       "_model_module_version":"1.5.0",
       "_view_module_version":"1.5.0",
       "description":"Депозит % год",
       "value":13.7,
       "max":30,
       "min":1,
       "step":0.1,
       "description_tooltip":null,
       "layout":"IPY_MODEL_fad1f88a922f4a87a2fef05732183cc7",
       "style":"IPY_MODEL_a8f7bf4b5400431a8091a68c90bed42c"
      }
     },
     "e2ce1de6d9c34ebaa51fa625154a6ca3":{
      "model_name":"LayoutModel",
      "model_module":"@jupyter-widgets\/base",
      "model_module_version":"1.2.0",
      "state":{}
     },
     "f1e8aa9170be442a91f96fd0763bbcea":{
      "model_name":"DescriptionStyleModel",
      "model_module":"@jupyter-widgets\/controls",
      "model_module_version":"1.5.0",
      "state":{
       "_model_module_version":"1.5.0",
       "_view_module_version":"1.2.0",
       "description_width":""
      }
     },
     "0e04d3f7da404a54ad47fff559ed034e":{
      "model_name":"CheckboxModel",
      "model_module":"@jupyter-widgets\/controls",
      "model_module_version":"1.5.0",
      "state":{
       "_model_module_version":"1.5.0",
       "_view_module_version":"1.5.0",
       "description":"Капитализация",
       "style":"IPY_MODEL_f1e8aa9170be442a91f96fd0763bbcea",
       "description_tooltip":null,
       "disabled":false,
       "layout":"IPY_MODEL_e2ce1de6d9c34ebaa51fa625154a6ca3",
       "value":true
      }
     },
     "efc8ee5e70cb4e38ae0abf38015f51db":{
      "model_name":"LayoutModel",
      "model_module":"@jupyter-widgets\/base",
      "model_module_version":"1.2.0",
      "state":{}
     },
     "1084359867d8463596294a8dccbc29d7":{
      "model_name":"SliderStyleModel",
      "model_module":"@jupyter-widgets\/controls",
      "model_module_version":"1.5.0",
      "state":{
       "_model_module_version":"1.5.0",
       "_view_module_version":"1.2.0",
       "description_width":""
      }
     },
     "a49352f951c546f3bd3f461db2566060":{
      "model_name":"FloatSliderModel",
      "model_module":"@jupyter-widgets\/controls",
      "model_module_version":"1.5.0",
      "state":{
       "_model_module_version":"1.5.0",
       "_view_module_version":"1.5.0",
       "description":"Налог %",
       "value":13,
       "max":20,
       "step":0.5,
       "description_tooltip":null,
       "layout":"IPY_MODEL_efc8ee5e70cb4e38ae0abf38015f51db",
       "style":"IPY_MODEL_1084359867d8463596294a8dccbc29d7"
      }
     },
     "fbbf4fdfe07f4401aa5aa067e21cd147":{
      "model_name":"LayoutModel",
      "model_module":"@jupyter-widgets\/base",
      "model_module_version":"1.2.0",
      "state":{}
     },
     "6878e882dabd48e9928308af66d13703":{
      "model_name":"OutputModel",
      "model_module":"@jupyter-widgets\/output",
      "model_module_version":"1.0.0",
      "state":{
       "layout":"IPY_MODEL_fbbf4fdfe07f4401aa5aa067e21cd147"
      }
     },
     "82403a4cc1e1486d97b6f54babd39dfe":{
      "model_name":"LayoutModel",
      "model_module":"@jupyter-widgets\/base",
      "model_module_version":"1.2.0",
      "state":{}
     },
     "55c011729ec2492b971a0991e2e902f3":{
      "model_name":"VBoxModel",
      "model_module":"@jupyter-widgets\/controls",
      "model_module_version":"1.5.0",
      "state":{
       "_model_module_version":"1.5.0",
       "_view_module_version":"1.5.0",
       "_dom_classes":[
        "widget-interact"
       ],
       "children":[
        "IPY_MODEL_dc85e2b0ad9d4706ae84f3c6bfc0e428",
        "IPY_MODEL_874de56a55c8436990505175c3682809",
        "IPY_MODEL_56fcf10d51bb40a9aee07afcb52a4e05",
        "IPY_MODEL_dc2199c9fd964019a1563498b8865da2",
        "IPY_MODEL_0e04d3f7da404a54ad47fff559ed034e",
        "IPY_MODEL_a49352f951c546f3bd3f461db2566060",
        "IPY_MODEL_6878e882dabd48e9928308af66d13703"
       ],
       "layout":"IPY_MODEL_82403a4cc1e1486d97b6f54babd39dfe"
      }
     }
    }
   }
  },
  "kernelspec":{
   "display_name":"Python",
   "language":"python",
   "name":"python"
  },
  "datalore":{
   "computation_mode":"JUPYTER",
   "package_manager":"pip",
   "base_environment":"default_3_11",
   "python_version":"3.11",
   "packages":[],
   "report_row_ids":[],
   "report_tabs":[],
   "version":4
  }
 },
 "nbformat":4,
 "nbformat_minor":4
}